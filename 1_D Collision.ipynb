{
 "cells": [
  {
   "cell_type": "code",
   "execution_count": 2,
   "id": "227fce55",
   "metadata": {},
   "outputs": [],
   "source": [
    "import matplotlib.pyplot as plt\n",
    "from matplotlib.animation import FuncAnimation\n",
    "import numpy as np"
   ]
  },
  {
   "cell_type": "code",
   "execution_count": 3,
   "id": "9ed0ec43",
   "metadata": {},
   "outputs": [],
   "source": [
    "#block 1 is closer to wall and block 2 is further away from the wall\n",
    "#collisions with wall and blocks are described as of two diferent types and represented using variable collison_type throughout the code\n",
    "#velocity of block can be of any value , number of collisions will still give pi\n",
    "#positions are mesured from left edge of block\n",
    "decimal_places = 2                              #number of decimal places till which the user wants to pridict pi\n",
    "x1_initial = 4                                 #position of block 1 \n",
    "x2_initial = 10                                #position of block 2\n",
    "v1_initial = 0                                  #velocity of block 1\n",
    "v2_initial = -200                                 #velocity of block 2\n",
    "m1 = 1                                          #mass of block 1\n",
    "m2 = (100)**decimal_places                      #mass of block 2\n",
    "l1 = 1                                          #side length of block 1           \n",
    "l2 = decimal_places*l1                          #side length of block 2"
   ]
  },
  {
   "cell_type": "code",
   "execution_count": 4,
   "id": "4df263e2",
   "metadata": {},
   "outputs": [],
   "source": [
    "#defining functions\n",
    "def new_velocity(v1_initial,v2_initial,collision_type): #computes velocity of blocks after collision\n",
    "    #if block hits wall\n",
    "    v1_wall = -v1_initial\n",
    "    v2_wall = v2_initial\n",
    "    \n",
    "    #if two blocks hit each other\n",
    "    v1_block = ((m1 - m2)*v1_initial + 2*m2*v2_initial)/(m1 + m2)\n",
    "    v2_block = ((m2 - m1)*v2_initial + 2*m1*v1_initial)/(m1 + m2)\n",
    "    \n",
    "    final_velocity = {'wall':[v1_wall, v2_wall],'block':[v1_block, v2_block]}\n",
    "    return final_velocity[collision_type][0] , final_velocity[collision_type][1]\n",
    "\n",
    "def compute_time(x1,x2,collision_type):        #computes time beweenpresent position and next collision\n",
    "    t_wall = (-x1)/v1\n",
    "    t_block = (l1 + x1-x2)/(v2-v1)\n",
    "    time={'wall':t_wall , 'block':t_block}\n",
    "    return time[collision_type] "
   ]
  },
  {
   "cell_type": "code",
   "execution_count": 5,
   "id": "94304b3e",
   "metadata": {},
   "outputs": [
    {
     "name": "stdout",
     "output_type": "stream",
     "text": [
      "Number of Collisions: 314\n",
      "Predicted value of pi is: 3.14\n"
     ]
    },
    {
     "name": "stderr",
     "output_type": "stream",
     "text": [
      "C:\\Users\\ashis\\AppData\\Local\\Temp\\ipykernel_18436\\1506056439.py:15: RuntimeWarning: divide by zero encountered in long_scalars\n",
      "  t_wall = (-x1)/v1\n"
     ]
    }
   ],
   "source": [
    "#Computing position of blocks during collisions\n",
    "x1 = np.array([x1_initial])              #Stores position of first block      \n",
    "x2 = np.array([x2_initial])              #Stores position of second block\n",
    "v1 = v1_initial                          #Velocity of first block\n",
    "v2 = v2_initial                          #Velocity of second block\n",
    "collision_index = []                     #Stores index of x1 and x2 at which collision occurs\n",
    "collision_type={0:'block' , 1:'wall'}    #Assigns each type of collision a binary number\n",
    "no_collisions=0                          #Number of collisions\n",
    "while True:\n",
    "    if v1>0 and v2>v1:                   #No more collisions will happen after this condition is reached\n",
    "         break\n",
    "    collision = collision_type[no_collisions % 2]              #Collision that is going to take place next        \n",
    "    time_interval = compute_time(x1[-1],x2[-1],collision)      #computes time interval untill next collision\n",
    "   \n",
    "    n = int(np.ceil(time_interval*10000))        #Number of steps for euler's inegeration     \n",
    "    dt = time_interval/n                          #time step\n",
    "    for k in range(0,n):                         #Euler's integeration to compute positions till next collsion \n",
    "        x1 = np.append(x1, x1[-1]+v1*dt)\n",
    "        x2 = np.append(x2, x2[-1]+v2*dt)\n",
    "\n",
    "    collision_index.append(len(x2)-1)            #stores index of x1 and x2 at which collision took place\n",
    "    v1,v2 = new_velocity(v1,v2,collision)        #Computes velocities after collision\n",
    "    no_collisions += 1                    \n",
    "    \n",
    "print(f'Number of Collisions: {no_collisions}')\n",
    "\n",
    "#Result\n",
    "print(f'Predicted value of pi is: {no_collisions*(10**(-decimal_places))}')"
   ]
  },
  {
   "cell_type": "code",
   "execution_count": 6,
   "id": "5b359361",
   "metadata": {},
   "outputs": [],
   "source": [
    "#Animation\n",
    "%matplotlib qt      \n",
    "# %matplotlib qt: Magic command to display matplotlib objects in seperate window [won't work in idle]\n",
    "\n",
    "fig, ax = plt.subplots(figsize=(10,10))                  #Creating figure and axes\n",
    "block_1 = plt.Rectangle((x1[0],0), l1, l1,  fc='red')        #Creating first block       \n",
    "block_2 = plt.Rectangle((x2[0],0), l2, l2,  fc='blue')       #Creating second block\n",
    "ax.add_patch(block_1)                    #Adds rectangle object to axes\n",
    "ax.add_patch(block_2)\n",
    "\n",
    "#Setting limit for x and y axes\n",
    "ax.set_xlim(0,10)\n",
    "ax.set_ylim(0,l2+1)\n",
    "\n",
    "no_collisions = 0          #reinitializing number of collisions\n",
    "\n",
    "def update(frame):        \n",
    "    global no_collisions  \n",
    "    if frame in collision_index:        #Checks if collision takes place at present frame   \n",
    "        no_collisions = no_collisions + 1      \n",
    "    \n",
    "    #Updating position of blocks for current frame\n",
    "    block_1.set_xy((x1[frame],0))       \n",
    "    block_2.set_xy((x2[frame], 0))\n",
    "    \n",
    "    plt.title(f'Number of Collision:{no_collisions}')       #Adds no. of collisions as title to plot \n",
    "    return block_1, block_2\n",
    "\n",
    "ax.set_aspect('equal')                 #Sets aspect ratio of plot to equal\n",
    "animate = FuncAnimation(fig, update, frames=len(x1), interval=1)\n",
    "plt.show()"
   ]
  },
  {
   "cell_type": "code",
   "execution_count": 7,
   "id": "28287379",
   "metadata": {},
   "outputs": [],
   "source": [
    "\n"
   ]
  },
  {
   "cell_type": "code",
   "execution_count": 70,
   "id": "31eb09b1",
   "metadata": {},
   "outputs": [],
   "source": [
    "\n"
   ]
  },
  {
   "cell_type": "code",
   "execution_count": null,
   "id": "17d8b69f",
   "metadata": {},
   "outputs": [],
   "source": []
  }
 ],
 "metadata": {
  "kernelspec": {
   "display_name": "Python 3 (ipykernel)",
   "language": "python",
   "name": "python3"
  },
  "language_info": {
   "codemirror_mode": {
    "name": "ipython",
    "version": 3
   },
   "file_extension": ".py",
   "mimetype": "text/x-python",
   "name": "python",
   "nbconvert_exporter": "python",
   "pygments_lexer": "ipython3",
   "version": "3.9.13"
  }
 },
 "nbformat": 4,
 "nbformat_minor": 5
}
